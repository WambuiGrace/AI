{
 "cells": [
  {
   "cell_type": "markdown",
   "id": "2031c1a1",
   "metadata": {},
   "source": [
    "# Question 1"
   ]
  },
  {
   "cell_type": "code",
   "execution_count": 1,
   "id": "a77ff77c",
   "metadata": {},
   "outputs": [
    {
     "name": "stdout",
     "output_type": "stream",
     "text": [
      "1.24.3\n"
     ]
    }
   ],
   "source": [
    "#numpy version\n",
    "import numpy;\n",
    "print(numpy.version.version)"
   ]
  },
  {
   "cell_type": "code",
   "execution_count": 3,
   "id": "1f8b92b0",
   "metadata": {},
   "outputs": [
    {
     "name": "stdout",
     "output_type": "stream",
     "text": [
      "1.5.3\n"
     ]
    }
   ],
   "source": [
    "#pandas version\n",
    "import pandas as pd;\n",
    "print(pd.__version__)"
   ]
  },
  {
   "cell_type": "markdown",
   "id": "53374baa",
   "metadata": {},
   "source": [
    "# Question 2"
   ]
  },
  {
   "cell_type": "code",
   "execution_count": 4,
   "id": "f29533e3",
   "metadata": {},
   "outputs": [
    {
     "name": "stdout",
     "output_type": "stream",
     "text": [
      "Hello HCIA PDTP-Huawei Team\n"
     ]
    }
   ],
   "source": [
    "greetings = ('Hello HCIA PDTP-Huawei Team')\n",
    "print(greetings)"
   ]
  },
  {
   "cell_type": "markdown",
   "id": "423bbd0c",
   "metadata": {},
   "source": [
    "# Question 3"
   ]
  },
  {
   "cell_type": "code",
   "execution_count": 9,
   "id": "b1972b0c",
   "metadata": {},
   "outputs": [
    {
     "name": "stdout",
     "output_type": "stream",
     "text": [
      "Enter a number: 5\n",
      "Enter a number: 5\n",
      "Sum =  10\n"
     ]
    }
   ],
   "source": [
    "x = int(input('Enter a number: '))\n",
    "y = int(input('Enter a number: '))\n",
    "\n",
    "z = x + y\n",
    "print('Sum = ',z)"
   ]
  },
  {
   "cell_type": "markdown",
   "id": "c825b8b6",
   "metadata": {},
   "source": [
    "# Question 4"
   ]
  },
  {
   "cell_type": "code",
   "execution_count": 15,
   "id": "b1661052",
   "metadata": {},
   "outputs": [
    {
     "name": "stdout",
     "output_type": "stream",
     "text": [
      "('Cloud-track',)\n"
     ]
    }
   ],
   "source": [
    "name = ('Cloud-track',)\n",
    "#print(type(name))\n",
    "print(name)"
   ]
  },
  {
   "cell_type": "code",
   "execution_count": 18,
   "id": "be14c7b8",
   "metadata": {},
   "outputs": [
    {
     "name": "stdout",
     "output_type": "stream",
     "text": [
      "Grace\n",
      "Ian\n",
      "Daniel\n"
     ]
    }
   ],
   "source": [
    "team = ('Grace', 'Ian', 'Daniel',)\n",
    "for x in team:\n",
    "    print(x)"
   ]
  },
  {
   "cell_type": "markdown",
   "id": "9db961ed",
   "metadata": {},
   "source": [
    "# Question 5"
   ]
  },
  {
   "cell_type": "code",
   "execution_count": 25,
   "id": "83836b10",
   "metadata": {},
   "outputs": [
    {
     "name": "stdout",
     "output_type": "stream",
     "text": [
      "{'name': 'Reagan', 'phone': '+254 722 222333'}\n"
     ]
    }
   ],
   "source": [
    "details = {\n",
    "    'name' : 'Reagan',\n",
    "    'phone' : '+254 722 222333',\n",
    "}\n",
    "print(details)"
   ]
  },
  {
   "cell_type": "markdown",
   "id": "170f64fc",
   "metadata": {},
   "source": [
    "# Question 6\n"
   ]
  },
  {
   "cell_type": "code",
   "execution_count": 33,
   "id": "a6b62d13",
   "metadata": {},
   "outputs": [
    {
     "name": "stdout",
     "output_type": "stream",
     "text": [
      "Enter a number: 8\n",
      "Enter a number: 6\n",
      "Product of 8.0 x 6.0 = 48.0\n"
     ]
    }
   ],
   "source": [
    "# Qn 6a\n",
    "def multiplication():\n",
    "    num_1 = float(input('Enter a number: '))\n",
    "    num_2 = float(input('Enter a number: '))\n",
    "    \n",
    "    product = num_1 * num_2\n",
    "    print(f\"Product of {num_1} x {num_2} = {product}\")\n",
    "    \n",
    "multiplication()"
   ]
  },
  {
   "cell_type": "code",
   "execution_count": 34,
   "id": "060098f1",
   "metadata": {},
   "outputs": [],
   "source": [
    "#Qn 6b\n",
    "def sqrProd(x,y):\n",
    "    product = x * y\n",
    "    square_product = product ** 2\n",
    "    return square_product\n"
   ]
  },
  {
   "cell_type": "markdown",
   "id": "7c6298dc",
   "metadata": {},
   "source": [
    "# Question 7"
   ]
  },
  {
   "cell_type": "code",
   "execution_count": 36,
   "id": "682de962",
   "metadata": {},
   "outputs": [
    {
     "name": "stdout",
     "output_type": "stream",
     "text": [
      "[[0. 0. 0. 0. 0.]\n",
      " [0. 0. 0. 0. 0.]\n",
      " [0. 0. 0. 0. 0.]\n",
      " [0. 0. 0. 0. 0.]\n",
      " [0. 0. 0. 0. 0.]]\n"
     ]
    }
   ],
   "source": [
    "#Qn 7\n",
    "import numpy as np\n",
    "arr = np.zeros((5,5))\n",
    "print(arr)\n"
   ]
  },
  {
   "cell_type": "code",
   "execution_count": 38,
   "id": "560bf9f2",
   "metadata": {},
   "outputs": [
    {
     "name": "stdout",
     "output_type": "stream",
     "text": [
      "[[0 1 2]\n",
      " [3 4 5]\n",
      " [6 7 8]]\n"
     ]
    }
   ],
   "source": [
    "x = np.arange (0, 9).reshape(3,3)\n",
    "print(x)"
   ]
  },
  {
   "cell_type": "code",
   "execution_count": 39,
   "id": "d5f3f76c",
   "metadata": {},
   "outputs": [
    {
     "data": {
      "text/plain": [
       "(array([0, 1, 4], dtype=int64),)"
      ]
     },
     "execution_count": 39,
     "metadata": {},
     "output_type": "execute_result"
    }
   ],
   "source": [
    "x = np.array([1,2,0,0,4,0])\n",
    "np.nonzero(x)"
   ]
  },
  {
   "cell_type": "code",
   "execution_count": 60,
   "id": "e175703c",
   "metadata": {},
   "outputs": [
    {
     "name": "stdout",
     "output_type": "stream",
     "text": [
      "[[44 34 38 99 39 42 98 63 46  1]\n",
      " [15 68 82 49 96  8 60 37 12 17]\n",
      " [47 78 53 14 99 64  3 42  8 86]\n",
      " [20 61 22 52 91 13 87 47 97 57]\n",
      " [86 48  7  3 51 37 43 62 46 69]\n",
      " [51 27 95 35  9 48 32  2 70 48]\n",
      " [57 67 38 91  7 59 40 79 41 13]\n",
      " [54 99 66 42 93 69 85 19 34 44]\n",
      " [41 40  5 39 93 23 84 85  1  9]\n",
      " [83 11 40 61 63 64 82 45 60 84]]\n",
      "Minimum and Maximum values: 1 , 99\n"
     ]
    }
   ],
   "source": [
    "x = np.random.randint(low=1, high=100, size=(10,10))\n",
    "print(x)\n",
    "\n",
    "xmin, xmax = x.min(), x.max()\n",
    "print(f'Minimum and Maximum values: {xmin} , {xmax}')"
   ]
  },
  {
   "cell_type": "code",
   "execution_count": 58,
   "id": "1ea8b3a9",
   "metadata": {},
   "outputs": [
    {
     "name": "stdout",
     "output_type": "stream",
     "text": [
      "[[11 28 21  8 25]\n",
      " [25  7  1  6  5]\n",
      " [ 4  6 17 12 14]\n",
      " [ 0  3 14 13 15]\n",
      " [ 4 12 15 26 28]\n",
      " [19 24  7  1 20]]\n",
      "Mean:  13.033333333333333\n"
     ]
    }
   ],
   "source": [
    "x = np.random.randint(30, size=(6, 5))\n",
    "print(x)\n",
    "mean = np.mean(x)\n",
    "print('Mean: ',mean)"
   ]
  },
  {
   "cell_type": "markdown",
   "id": "d933b149",
   "metadata": {},
   "source": [
    "# Question 8"
   ]
  },
  {
   "cell_type": "code",
   "execution_count": 61,
   "id": "c4a2f2de",
   "metadata": {},
   "outputs": [
    {
     "name": "stdout",
     "output_type": "stream",
     "text": [
      "Enter a number: 6\n",
      "Enter a number: 6\n",
      "Product =  36\n"
     ]
    }
   ],
   "source": [
    "x = int(input('Enter a number: '))\n",
    "y = int(input('Enter a number: '))\n",
    "\n",
    "z = x * y\n",
    "print('Product = ',z)"
   ]
  },
  {
   "cell_type": "markdown",
   "id": "81b37735",
   "metadata": {},
   "source": [
    "# Question 9"
   ]
  },
  {
   "cell_type": "code",
   "execution_count": 1,
   "id": "512f0be7",
   "metadata": {},
   "outputs": [
    {
     "name": "stdout",
     "output_type": "stream",
     "text": [
      "6\n",
      "2\n",
      "10\n"
     ]
    }
   ],
   "source": [
    "def doubleList(numberList):\n",
    "    for number in numberList:\n",
    "        print(2 * number)\n",
    "doubleList([3, 1, 5])\n"
   ]
  }
 ],
 "metadata": {
  "kernelspec": {
   "display_name": "Python 3 (ipykernel)",
   "language": "python",
   "name": "python3"
  },
  "language_info": {
   "codemirror_mode": {
    "name": "ipython",
    "version": 3
   },
   "file_extension": ".py",
   "mimetype": "text/x-python",
   "name": "python",
   "nbconvert_exporter": "python",
   "pygments_lexer": "ipython3",
   "version": "3.10.9"
  }
 },
 "nbformat": 4,
 "nbformat_minor": 5
}
